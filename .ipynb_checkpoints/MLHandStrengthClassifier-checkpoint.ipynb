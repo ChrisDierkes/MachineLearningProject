{
 "cells": [
  {
   "cell_type": "markdown",
   "metadata": {},
   "source": [
    "Ryan Kirkpatrick, Chris Dierkes\n",
    "\n",
    "Hand Strength classifers for NLH Poker\n",
    "\n",
    "We start by importing our generated dataset of board/hand/labels"
   ]
  },
  {
   "cell_type": "code",
   "execution_count": 2,
   "metadata": {},
   "outputs": [
    {
     "name": "stdout",
     "output_type": "stream",
     "text": [
      "[[ 2  1  3 ...  1  3 45]\n",
      " [ 3  1  3 ...  1  4 45]\n",
      " [ 4  1  3 ...  1  5 45]\n",
      " ...\n",
      " [ 4  4  4 ...  3 21 33]\n",
      " [ 4  4  4 ...  3 24 33]\n",
      " [ 4  4  4 ...  3 25 33]]\n",
      "[ 4.16281221  4.16281221  4.16281221 ... 99.76873265 99.86123959\n",
      " 99.95374653]\n"
     ]
    }
   ],
   "source": [
    "import pandas as pd\n",
    "import numpy as np\n",
    "import matplotlib as plt\n",
    "import sklearn\n",
    "\n",
    "names = ['HS1', 'HS2','BS1','BS2','BS3','BS4','BS5',\n",
    "    'HR1','HR2','BR1','BR2','BR3', 'BR4', 'BR5', 'Percentile', 'S1C', 'S2C', 'S3C', 'S4C']\n",
    "df = pd.read_csv('5k.csv', names = names)\n",
    "\n",
    "hand_frame = df.drop(['Percentile'], axis = 1)\n",
    "hand_frame['hand_sum'] = hand_frame['HR1'] + hand_frame['HR2']\n",
    "hand_frame['board_sum'] = hand_frame['BR1'] + hand_frame['BR2'] + hand_frame['BR3'] + hand_frame['BR4'] + hand_frame['BR5']\n",
    "label_frame = df['Percentile']\n",
    "\n",
    "hand_array = hand_frame.to_numpy()\n",
    "label_array = label_frame.to_numpy()\n",
    "\n",
    "X = hand_array  \n",
    "y = label_array\n",
    "print(X)\n",
    "print(y)\n",
    "#import data\n"
   ]
  },
  {
   "cell_type": "markdown",
   "metadata": {},
   "source": [
    "We must now process our data and split into training and testing splits:"
   ]
  },
  {
   "cell_type": "code",
   "execution_count": 3,
   "metadata": {},
   "outputs": [
    {
     "name": "stdout",
     "output_type": "stream",
     "text": [
      "         HS1  HS2  BS1  BS2  BS3  BS4  BS5  HR1  HR2  BR1  BR2  BR3  BR4  BR5  \\\n",
      "0          2    1    3    1    4    1    1    2    1   12   11    9    8    5   \n",
      "1          3    1    3    1    4    1    1    3    1   12   11    9    8    5   \n",
      "2          4    1    3    1    4    1    1    4    1   12   11    9    8    5   \n",
      "3          3    1    3    1    4    1    1    2    1   12   11    9    8    5   \n",
      "4          4    1    3    1    4    1    1    3    1   12   11    9    8    5   \n",
      "...      ...  ...  ...  ...  ...  ...  ...  ...  ...  ...  ...  ...  ...  ...   \n",
      "5404995    4    4    4    4    2    4    1   13    6   10    9    8    5    1   \n",
      "5404996    4    4    4    4    2    4    1   13    7   10    9    8    5    1   \n",
      "5404997    4    4    4    4    2    4    1   13    8   10    9    8    5    1   \n",
      "5404998    4    4    4    4    2    4    1   13   11   10    9    8    5    1   \n",
      "5404999    4    4    4    4    2    4    1   13   12   10    9    8    5    1   \n",
      "\n",
      "         S1C  S2C  S3C  S4C  hand_sum  board_sum  \n",
      "0          3    0    1    1         3         45  \n",
      "1          3    0    1    1         4         45  \n",
      "2          3    0    1    1         5         45  \n",
      "3          3    0    1    1         3         45  \n",
      "4          3    0    1    1         4         45  \n",
      "...      ...  ...  ...  ...       ...        ...  \n",
      "5404995    1    1    0    3        19         33  \n",
      "5404996    1    1    0    3        20         33  \n",
      "5404997    1    1    0    3        21         33  \n",
      "5404998    1    1    0    3        24         33  \n",
      "5404999    1    1    0    3        25         33  \n",
      "\n",
      "[5405000 rows x 20 columns]\n"
     ]
    }
   ],
   "source": [
    "print(hand_frame)"
   ]
  },
  {
   "cell_type": "code",
   "execution_count": 4,
   "metadata": {},
   "outputs": [],
   "source": [
    "from sklearn.model_selection import train_test_split\n",
    "\n",
    "X_train, X_test, y_train, y_test = train_test_split(X, y, test_size=0.20)\n"
   ]
  },
  {
   "cell_type": "markdown",
   "metadata": {},
   "source": [
    "Here we implement the KNN classifier with K=3:"
   ]
  },
  {
   "cell_type": "code",
   "execution_count": 5,
   "metadata": {},
   "outputs": [
    {
     "data": {
      "text/plain": [
       "0.7782211171720127"
      ]
     },
     "execution_count": 5,
     "metadata": {},
     "output_type": "execute_result"
    }
   ],
   "source": [
    "from sklearn.neighbors import KNeighborsRegressor\n",
    "\n",
    "KNN = KNeighborsRegressor(n_neighbors = 3)\n",
    "KNN.fit(X_train, y_train)\n",
    "KNN.score(X = X_test,y = y_test)\n"
   ]
  },
  {
   "cell_type": "markdown",
   "metadata": {},
   "source": [
    "Now, we will evaluate our classifiers on our current dataset:"
   ]
  },
  {
   "cell_type": "code",
   "execution_count": 6,
   "metadata": {},
   "outputs": [
    {
     "name": "stdout",
     "output_type": "stream",
     "text": [
      "[[ 4  1  2  3  3  3  2 12 11 13  8  7  4  3  0  2  3  0 23 35]\n",
      " [ 1  1  1  4  3  3  2 11  9 13 11  9  5  3  1  1  2  1 20 41]\n",
      " [ 2  3  3  1  1  4  1 13  8 13 12  3  1  1  3  0  1  1 21 30]\n",
      " [ 3  4  2  3  3  2  2  7  4 13 11  9  9  7  0  3  2  0 11 49]\n",
      " [ 2  3  2  4  3  4  1  8  2 13  8  6  5  5  1  1  1  2 10 37]\n",
      " [ 2  3  2  3  1  2  3 12 10  8  7  5  2  1  1  2  2  0 22 23]\n",
      " [ 2  1  3  3  1  1  1  9  4 12  9  9  3  2  3  0  2  0 13 35]\n",
      " [ 4  2  3  2  3  2  3 13 11 10  9  8  8  5  0  2  3  0 24 40]\n",
      " [ 3  2  2  4  3  2  1  5  2 13 10 10  6  1  1  2  1  1  7 40]\n",
      " [ 3  3  1  4  2  4  4 12  3 12  8  8  6  5  1  1  0  3 15 39]\n",
      " [ 4  4  2  4  3  4  2  8  3 13 10  7  4  3  0  2  1  2 11 37]\n",
      " [ 2  4  2  1  3  1  1 13  9 12  8  7  6  1  3  1  1  0 22 34]\n",
      " [ 2  1  2  3  2  3  2  1  1 13 12 11  9  9  0  3  2  0  2 54]\n",
      " [ 3  4  1  3  3  2  3  8  5  7  6  4  3  2  1  1  3  0 13 22]\n",
      " [ 3  3  3  4  2  3  4 13 11 10  9  8  7  1  0  1  2  2 24 35]\n",
      " [ 4  3  3  4  4  2  2 12  5  7  6  4  4  2  0  2  1  2 17 23]\n",
      " [ 2  3  3  2  1  4  4  4  2 12 10 10  5  4  1  1  1  2  6 41]\n",
      " [ 3  4  4  3  4  1  3  6  4  8  7  6  6  4  1  0  2  2 10 31]\n",
      " [ 4  2  3  1  3  2  1  8  4 12 12  6  5  3  2  1  2  0 12 38]\n",
      " [ 3  4  4  4  3  2  3  6  5 11  9  9  6  3  0  1  2  2 11 38]]\n",
      "[50.55504163 87.78908418 78.9546716  40.47178538 68.08510638 24.42183164\n",
      " 42.18316374 59.99074931  6.66049954 75.30064755 32.19241443 31.22109158\n",
      " 50.61671292 79.21677459 91.02682701 30.34227567 40.33302498 79.17052112\n",
      "  8.14061055 69.79648474]\n",
      "-------------\n",
      "[35.38390379 93.38575393 78.9546716  55.50416281 68.08510638 24.42183164\n",
      " 87.69657724 43.70952821  6.66049954 75.30064755 44.58834413 31.22109158\n",
      " 39.13043478 95.14338575 91.02682701 30.34227567 59.38945421 97.96484736\n",
      "  8.14061055 69.79648474]\n"
     ]
    }
   ],
   "source": [
    "print(X_test[20:40])\n",
    "print(KNN.predict(X_test[20:40]))\n",
    "print(\"-------------\")\n",
    "print(y_test[20:40])"
   ]
  },
  {
   "cell_type": "code",
   "execution_count": 7,
   "metadata": {},
   "outputs": [
    {
     "ename": "ValueError",
     "evalue": "Unknown label type: 'continuous'",
     "output_type": "error",
     "traceback": [
      "\u001b[1;31m---------------------------------------------------------------------------\u001b[0m",
      "\u001b[1;31mValueError\u001b[0m                                Traceback (most recent call last)",
      "\u001b[1;32m<ipython-input-7-8528eff4e68d>\u001b[0m in \u001b[0;36m<module>\u001b[1;34m\u001b[0m\n\u001b[0;32m      1\u001b[0m \u001b[1;32mfrom\u001b[0m \u001b[0msklearn\u001b[0m\u001b[1;33m.\u001b[0m\u001b[0mlinear_model\u001b[0m \u001b[1;32mimport\u001b[0m \u001b[0mLogisticRegression\u001b[0m\u001b[1;33m\u001b[0m\u001b[1;33m\u001b[0m\u001b[0m\n\u001b[1;32m----> 2\u001b[1;33m \u001b[0mclf\u001b[0m \u001b[1;33m=\u001b[0m \u001b[0mLogisticRegression\u001b[0m\u001b[1;33m(\u001b[0m\u001b[0mrandom_state\u001b[0m\u001b[1;33m=\u001b[0m\u001b[1;36m0\u001b[0m\u001b[1;33m)\u001b[0m\u001b[1;33m.\u001b[0m\u001b[0mfit\u001b[0m\u001b[1;33m(\u001b[0m\u001b[0mX\u001b[0m\u001b[1;33m,\u001b[0m \u001b[0my\u001b[0m\u001b[1;33m)\u001b[0m\u001b[1;33m\u001b[0m\u001b[1;33m\u001b[0m\u001b[0m\n\u001b[0m\u001b[0;32m      3\u001b[0m \u001b[0mclf\u001b[0m\u001b[1;33m.\u001b[0m\u001b[0mscore\u001b[0m\u001b[1;33m(\u001b[0m\u001b[0mX\u001b[0m\u001b[1;33m,\u001b[0m\u001b[0my\u001b[0m\u001b[1;33m)\u001b[0m\u001b[1;33m\u001b[0m\u001b[1;33m\u001b[0m\u001b[0m\n",
      "\u001b[1;32m~\\anaconda3\\lib\\site-packages\\sklearn\\linear_model\\_logistic.py\u001b[0m in \u001b[0;36mfit\u001b[1;34m(self, X, y, sample_weight)\u001b[0m\n\u001b[0;32m   1526\u001b[0m         X, y = check_X_y(X, y, accept_sparse='csr', dtype=_dtype, order=\"C\",\n\u001b[0;32m   1527\u001b[0m                          accept_large_sparse=solver != 'liblinear')\n\u001b[1;32m-> 1528\u001b[1;33m         \u001b[0mcheck_classification_targets\u001b[0m\u001b[1;33m(\u001b[0m\u001b[0my\u001b[0m\u001b[1;33m)\u001b[0m\u001b[1;33m\u001b[0m\u001b[1;33m\u001b[0m\u001b[0m\n\u001b[0m\u001b[0;32m   1529\u001b[0m         \u001b[0mself\u001b[0m\u001b[1;33m.\u001b[0m\u001b[0mclasses_\u001b[0m \u001b[1;33m=\u001b[0m \u001b[0mnp\u001b[0m\u001b[1;33m.\u001b[0m\u001b[0munique\u001b[0m\u001b[1;33m(\u001b[0m\u001b[0my\u001b[0m\u001b[1;33m)\u001b[0m\u001b[1;33m\u001b[0m\u001b[1;33m\u001b[0m\u001b[0m\n\u001b[0;32m   1530\u001b[0m         \u001b[0mn_samples\u001b[0m\u001b[1;33m,\u001b[0m \u001b[0mn_features\u001b[0m \u001b[1;33m=\u001b[0m \u001b[0mX\u001b[0m\u001b[1;33m.\u001b[0m\u001b[0mshape\u001b[0m\u001b[1;33m\u001b[0m\u001b[1;33m\u001b[0m\u001b[0m\n",
      "\u001b[1;32m~\\anaconda3\\lib\\site-packages\\sklearn\\utils\\multiclass.py\u001b[0m in \u001b[0;36mcheck_classification_targets\u001b[1;34m(y)\u001b[0m\n\u001b[0;32m    167\u001b[0m     if y_type not in ['binary', 'multiclass', 'multiclass-multioutput',\n\u001b[0;32m    168\u001b[0m                       'multilabel-indicator', 'multilabel-sequences']:\n\u001b[1;32m--> 169\u001b[1;33m         \u001b[1;32mraise\u001b[0m \u001b[0mValueError\u001b[0m\u001b[1;33m(\u001b[0m\u001b[1;34m\"Unknown label type: %r\"\u001b[0m \u001b[1;33m%\u001b[0m \u001b[0my_type\u001b[0m\u001b[1;33m)\u001b[0m\u001b[1;33m\u001b[0m\u001b[1;33m\u001b[0m\u001b[0m\n\u001b[0m\u001b[0;32m    170\u001b[0m \u001b[1;33m\u001b[0m\u001b[0m\n\u001b[0;32m    171\u001b[0m \u001b[1;33m\u001b[0m\u001b[0m\n",
      "\u001b[1;31mValueError\u001b[0m: Unknown label type: 'continuous'"
     ]
    }
   ],
   "source": [
    "from sklearn.linear_model import LogisticRegression\n",
    "clf = LogisticRegression(random_state=0).fit(X, y)\n",
    "clf.score(X,y)"
   ]
  },
  {
   "cell_type": "code",
   "execution_count": null,
   "metadata": {},
   "outputs": [],
   "source": []
  }
 ],
 "metadata": {
  "kernelspec": {
   "display_name": "Python 3",
   "language": "python",
   "name": "python3"
  },
  "language_info": {
   "codemirror_mode": {
    "name": "ipython",
    "version": 3
   },
   "file_extension": ".py",
   "mimetype": "text/x-python",
   "name": "python",
   "nbconvert_exporter": "python",
   "pygments_lexer": "ipython3",
   "version": "3.8.3"
  }
 },
 "nbformat": 4,
 "nbformat_minor": 4
}

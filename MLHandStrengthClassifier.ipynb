{
 "cells": [
  {
   "cell_type": "markdown",
   "metadata": {},
   "source": [
    "Ryan Kirkpatrick, Chris Dierkes\n",
    "\n",
    "# Hand Strength classifers for NLH Poker\n",
    "\n",
    "We start by importing our generated dataset of board/hand/labels"
   ]
  },
  {
   "cell_type": "code",
   "execution_count": 19,
   "metadata": {},
   "outputs": [
    {
     "name": "stdout",
     "output_type": "stream",
     "text": [
      "[[ 2  1  3 ...  1  3 45]\n",
      " [ 3  1  3 ...  1  4 45]\n",
      " [ 4  1  3 ...  1  5 45]\n",
      " ...\n",
      " [ 4  4  4 ...  3 21 33]\n",
      " [ 4  4  4 ...  3 24 33]\n",
      " [ 4  4  4 ...  3 25 33]]\n",
      "[ 4.16281221  4.16281221  4.16281221 ... 99.76873265 99.86123959\n",
      " 99.95374653]\n"
     ]
    }
   ],
   "source": [
    "import pandas as pd\n",
    "import numpy as np\n",
    "import matplotlib.pyplot as plt\n",
    "import sklearn\n",
    "\n",
    "names = ['HS1', 'HS2','BS1','BS2','BS3','BS4','BS5',\n",
    "    'HR1','HR2','BR1','BR2','BR3', 'BR4', 'BR5', 'Percentile', 'S1C', 'S2C', 'S3C', 'S4C']\n",
    "df = pd.read_csv('5k.csv', names = names)\n",
    "\n",
    "hand_frame = df.drop(['Percentile'], axis = 1)\n",
    "hand_frame['hand_sum'] = hand_frame['HR1'] + hand_frame['HR2']\n",
    "hand_frame['board_sum'] = hand_frame['BR1'] + hand_frame['BR2'] + hand_frame['BR3'] + hand_frame['BR4'] + hand_frame['BR5']\n",
    "label_frame = df['Percentile']\n",
    "\n",
    "hand_array = hand_frame.to_numpy()\n",
    "label_array = label_frame.to_numpy()\n",
    "\n",
    "X = hand_array  \n",
    "y = label_array\n",
    "print(X)\n",
    "print(y)\n",
    "#import data\n"
   ]
  },
  {
   "cell_type": "markdown",
   "metadata": {},
   "source": [
    "# Additional Features\n",
    "We added new features based on our knowledge of the game in addition to our raw generated hand vectors. "
   ]
  },
  {
   "cell_type": "code",
   "execution_count": 16,
   "metadata": {},
   "outputs": [
    {
     "name": "stdout",
     "output_type": "stream",
     "text": [
      "         HS1  HS2  BS1  BS2  BS3  BS4  BS5  HR1  HR2  BR1  BR2  BR3  BR4  BR5  \\\n",
      "0          2    1    3    1    4    1    1    2    1   12   11    9    8    5   \n",
      "1          3    1    3    1    4    1    1    3    1   12   11    9    8    5   \n",
      "2          4    1    3    1    4    1    1    4    1   12   11    9    8    5   \n",
      "3          3    1    3    1    4    1    1    2    1   12   11    9    8    5   \n",
      "4          4    1    3    1    4    1    1    3    1   12   11    9    8    5   \n",
      "...      ...  ...  ...  ...  ...  ...  ...  ...  ...  ...  ...  ...  ...  ...   \n",
      "5404995    4    4    4    4    2    4    1   13    6   10    9    8    5    1   \n",
      "5404996    4    4    4    4    2    4    1   13    7   10    9    8    5    1   \n",
      "5404997    4    4    4    4    2    4    1   13    8   10    9    8    5    1   \n",
      "5404998    4    4    4    4    2    4    1   13   11   10    9    8    5    1   \n",
      "5404999    4    4    4    4    2    4    1   13   12   10    9    8    5    1   \n",
      "\n",
      "         S1C  S2C  S3C  S4C  hand_sum  board_sum  \n",
      "0          3    0    1    1         3         45  \n",
      "1          3    0    1    1         4         45  \n",
      "2          3    0    1    1         5         45  \n",
      "3          3    0    1    1         3         45  \n",
      "4          3    0    1    1         4         45  \n",
      "...      ...  ...  ...  ...       ...        ...  \n",
      "5404995    1    1    0    3        19         33  \n",
      "5404996    1    1    0    3        20         33  \n",
      "5404997    1    1    0    3        21         33  \n",
      "5404998    1    1    0    3        24         33  \n",
      "5404999    1    1    0    3        25         33  \n",
      "\n",
      "[5405000 rows x 20 columns]\n"
     ]
    }
   ],
   "source": [
    "print(hand_frame)"
   ]
  },
  {
   "cell_type": "markdown",
   "metadata": {},
   "source": [
    "Now, We want to create a training and testing split for our data."
   ]
  },
  {
   "cell_type": "code",
   "execution_count": 20,
   "metadata": {},
   "outputs": [],
   "source": [
    "from sklearn.model_selection import train_test_split\n",
    "\n",
    "X_train, X_test, y_train, y_test = train_test_split(X, y, test_size=0.20)\n"
   ]
  },
  {
   "cell_type": "markdown",
   "metadata": {},
   "source": [
    "# K-Nearest Neighbors Regression"
   ]
  },
  {
   "cell_type": "markdown",
   "metadata": {},
   "source": [
    "Here we implement the KNN classifier with K=3:"
   ]
  },
  {
   "cell_type": "code",
   "execution_count": 18,
   "metadata": {},
   "outputs": [
    {
     "data": {
      "text/plain": [
       "0.7772464998871382"
      ]
     },
     "execution_count": 18,
     "metadata": {},
     "output_type": "execute_result"
    }
   ],
   "source": [
    "from sklearn.neighbors import KNeighborsRegressor\n",
    "\n",
    "KNN = KNeighborsRegressor(n_neighbors = 3)\n",
    "KNN.fit(X_train, y_train)\n",
    "KNN.score(X = X_test,y = y_test)\n"
   ]
  },
  {
   "cell_type": "markdown",
   "metadata": {},
   "source": [
    "The cell below gives some example predictions on 20 of our test points. "
   ]
  },
  {
   "cell_type": "code",
   "execution_count": 27,
   "metadata": {},
   "outputs": [
    {
     "name": "stdout",
     "output_type": "stream",
     "text": [
      "[[ 3  4  4  1  2  4  2 10  2 13 11  9  8  6  1  2  0  2 12 47]\n",
      " [ 4  2  2  4  3  2  4  8  4  5  4  3  3  2  0  2  1  2 12 17]\n",
      " [ 4  3  4  1  4  4  3 10  8  7  7  5  1  1  1  0  1  3 18 21]\n",
      " [ 4  4  1  2  3  2  4  6  5 13  9  8  5  1  1  2  1  1 11 36]\n",
      " [ 1  4  2  4  3  1  1 12  3 12 11 10  4  2  2  1  1  1 15 39]\n",
      " [ 4  3  4  4  3  4  4 12  6 11  6  5  2  1  0  0  1  4 18 25]\n",
      " [ 1  1  3  4  1  3  1 12  6 13  9  5  4  4  2  0  2  1 18 35]\n",
      " [ 1  1  2  1  2  1  3 11  6 10  7  4  4  3  2  2  1  0 17 28]\n",
      " [ 3  4  3  3  3  1  3  6  5 12 10  9  8  2  1  0  4  0 11 41]\n",
      " [ 4  2  3  4  4  4  3 12  9 13  7  4  3  1  0  0  2  3 21 28]\n",
      " [ 2  4  3  2  3  1  2  6  5 10  8  6  6  1  1  2  2  0 11 31]\n",
      " [ 1  1  2  4  3  2  4 11  5 13 12 10 10  1  0  2  1  2 16 46]\n",
      " [ 3  2  4  4  1  2  2  7  7 13 11  9  5  3  1  2  0  2 14 41]\n",
      " [ 3  3  1  1  1  2  4  7  6 13 11  8  3  2  3  1  0  1 13 37]\n",
      " [ 2  1  3  1  4  2  2  9  5 13 10  6  5  3  1  2  1  1 14 37]\n",
      " [ 1  4  2  3  3  2  2  9  2 13 12 11  8  4  0  3  2  0 11 48]\n",
      " [ 4  3  2  1  3  4  2 13  7  9  7  4  3  2  1  2  1  1 20 25]\n",
      " [ 4  2  2  4  1  2  1 12 12 13 10  9  2  1  2  2  0  1 24 35]\n",
      " [ 2  3  1  2  2  1  4  8  2 13 12 10  9  6  2  2  0  1 10 50]\n",
      " [ 3  2  3  2  1  4  3 10 10 13  9  6  4  1  1  1  2  1 20 33]]\n",
      "[24.42183164 41.3506013  43.61702128 53.2839963  83.85753932 94.72710453\n",
      " 45.88344126 23.68177613 31.59111933 24.28307123 64.69318532 46.62349676\n",
      " 60.22201665 11.7946346  58.09435708 34.69010176 73.63552266 78.16836263\n",
      " 25.90194265 78.53839038]\n",
      "-------------\n",
      "[24.42183164 41.3506013  24.97687327 53.2839963  79.00092507 93.33950046\n",
      " 45.88344126 23.68177613 81.45235893 24.28307123 91.11933395 46.62349676\n",
      " 60.22201665 11.7946346  55.13413506 24.97687327 73.63552266 78.16836263\n",
      " 25.90194265 78.53839038]\n",
      "9.837023231988663\n",
      "-0.8846162502428201\n"
     ]
    }
   ],
   "source": [
    "print(X_test[20:40])\n",
    "print(KNN.predict(X_test[20:40]))\n",
    "print(\"-------------\")\n",
    "print(y_test[20:40])\n",
    "\n",
    "import statistics\n",
    "predictions = KNN.predict(X_test[0:len(X_test)])\n",
    "difference = []\n",
    "combo = zip(predictions, y_test)\n",
    "for y_test_i, predictions_i in combo:\n",
    "    difference.append(y_test_i - predictions_i)\n",
    "mean = statistics.mean(difference)\n",
    "standardDeviation = statistics.stdev(difference)\n",
    "print(standardDeviation)\n",
    "print(mean)"
   ]
  },
  {
   "cell_type": "markdown",
   "metadata": {},
   "source": [
    "# Comparing different K-Values\n",
    "Here we want to see the effect of using different values of K on our score. We are using a smaller dataset here.  "
   ]
  },
  {
   "cell_type": "code",
   "execution_count": 6,
   "metadata": {},
   "outputs": [
    {
     "data": {
      "text/plain": [
       "[0.7725089932944853,\n",
       " 0.7921838815414838,\n",
       " 0.7750857070267797,\n",
       " 0.7549483191866618]"
      ]
     },
     "execution_count": 6,
     "metadata": {},
     "output_type": "execute_result"
    }
   ],
   "source": [
    "df = pd.read_csv('1k.csv', names = names)\n",
    "\n",
    "hand_frame = df.drop(['Percentile'], axis = 1)\n",
    "hand_frame['hand_sum'] = hand_frame['HR1'] + hand_frame['HR2']\n",
    "hand_frame['board_sum'] = hand_frame['BR1'] + hand_frame['BR2'] + hand_frame['BR3'] + hand_frame['BR4'] + hand_frame['BR5']\n",
    "label_frame = df['Percentile']\n",
    "\n",
    "hand_array = hand_frame.to_numpy()\n",
    "label_array = label_frame.to_numpy()\n",
    "\n",
    "X = hand_array  \n",
    "y = label_array\n",
    "X_train, X_test, y_train, y_test = train_test_split(X, y, test_size=0.20)\n",
    "\n",
    "\n",
    "scores = []\n",
    "for i in range(4):\n",
    "    KNNs = KNeighborsRegressor(n_neighbors = i+2)\n",
    "    KNNs.fit(X_train, y_train)\n",
    "    scores.append(KNNs.score(X = X_test,y = y_test))\n",
    "scores"
   ]
  },
  {
   "cell_type": "code",
   "execution_count": 14,
   "metadata": {},
   "outputs": [
    {
     "data": {
      "image/png": "[encoded data removed]",
      "text/plain": [
       "<Figure size 432x288 with 1 Axes>"
      ]
     },
     "metadata": {
      "needs_background": "light"
     },
     "output_type": "display_data"
    }
   ],
   "source": [
    "plt.plot([2, 3, 4, 5], scores)\n",
    "plt.xticks(ticks = [2, 3, 4, 5])\n",
    "plt.title(\"Score v K-Value\")\n",
    "plt.ylabel(\"Score\")\n",
    "plt.xlabel(\"K-Value\")\n",
    "plt.show()"
   ]
  },
  {
   "cell_type": "markdown",
   "metadata": {},
   "source": [
    "# Other Algorithms"
   ]
  },
  {
   "cell_type": "markdown",
   "metadata": {},
   "source": [
    "Linear Regression"
   ]
  },
  {
   "cell_type": "code",
   "execution_count": 24,
   "metadata": {},
   "outputs": [
    {
     "name": "stdout",
     "output_type": "stream",
     "text": [
      "0.08904140784125036\n",
      "750.6136609281865\n"
     ]
    }
   ],
   "source": [
    "from sklearn import linear_model\n",
    "from sklearn.metrics import r2_score, mean_squared_error\n",
    "regression = linear_model.LinearRegression()\n",
    "regression.fit(X_train, y_train)\n",
    "y_preds = regression.predict(X_test)\n",
    "score = r2_score(y_test, y_preds)\n",
    "print(score)\n",
    "\n",
    "print(mean_squared_error(y_test, y_preds))"
   ]
  },
  {
   "cell_type": "code",
   "execution_count": 26,
   "metadata": {},
   "outputs": [
    {
     "name": "stdout",
     "output_type": "stream",
     "text": [
      "27.39731728744468\n",
      "0.03688832293362891\n"
     ]
    }
   ],
   "source": [
    "import statistics\n",
    "predictions = regression.predict(X_test[0:len(X_test)])\n",
    "difference = []\n",
    "combo = zip(predictions, y_test)\n",
    "for y_test_i, predictions_i in combo:\n",
    "    difference.append(y_test_i - predictions_i)\n",
    "mean = statistics.mean(difference)\n",
    "standardDeviation = statistics.stdev(difference)\n",
    "print(standardDeviation)\n",
    "print(mean)"
   ]
  },
  {
   "cell_type": "code",
   "execution_count": null,
   "metadata": {},
   "outputs": [],
   "source": []
  }
 ],
 "metadata": {
  "kernelspec": {
   "display_name": "Python 3",
   "language": "python",
   "name": "python3"
  },
  "language_info": {
   "codemirror_mode": {
    "name": "ipython",
    "version": 3
   },
   "file_extension": ".py",
   "mimetype": "text/x-python",
   "name": "python",
   "nbconvert_exporter": "python",
   "pygments_lexer": "ipython3",
   "version": "3.7.6"
  }
 },
 "nbformat": 4,
 "nbformat_minor": 4
}
